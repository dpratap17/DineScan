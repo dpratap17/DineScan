{
 "cells": [
  {
   "cell_type": "code",
   "execution_count": 1,
   "id": "facfe287",
   "metadata": {},
   "outputs": [],
   "source": [
    "import pandas as pd\n",
    "import random\n",
    "from datetime import datetime, timedelta\n",
    "\n",
    "data = []\n",
    "food_items = ['Dosa','Pakode','Chaap','Pasta', 'Pizza', 'Burger', 'Tacos','Sandwhich','RotiRoll','Pastry']\n",
    "categories = ['Indian', 'Chinese', 'Continental', 'Mexican','Italian']\n",
    "flavors = ['Sweet','Namkeen','Chili','Iced']\n",
    "times_of_day = ['Morning', 'Noon', 'Evening']\n",
    "genders = ['Male', 'Female']\n",
    "feedback_ratings = [1, 2, 3, 4, 5]\n",
    "seasons = ['Summer', 'Rainy', 'Winter', 'Spring']\n",
    "\n",
    "for _ in range(100):\n",
    "    name = random.choice(food_items)\n",
    "    category = random.choice(categories)\n",
    "    spicy = random.choice(['Yes', 'No'])\n",
    "    creamy = random.choice(['Yes', 'No'])\n",
    "    contains_fruits = random.choice(['Yes', 'No'])\n",
    "    major_flavor = random.choice(flavors)\n",
    "    time = random.choice(times_of_day)\n",
    "    age = random.randint(18, 50)\n",
    "    gender = random.choice(genders)\n",
    "    feedback = random.choice(feedback_ratings)\n",
    "    season = random.choice(seasons)\n",
    "\n",
    "    data.append([name, category, spicy, creamy, contains_fruits, major_flavor, time, age, gender, feedback, season])\n",
    "\n",
    "columns = ['name', 'category', 'spicy', 'creamy', 'contains_fruits', 'major_flavor', 'time', 'age', 'gender', 'feedback', 'season']\n",
    "df = pd.DataFrame(data, columns=columns)\n",
    "df.to_csv('data.csv', index=False)\n"
   ]
  },
  {
   "cell_type": "code",
   "execution_count": null,
   "id": "89292239",
   "metadata": {},
   "outputs": [],
   "source": []
  }
 ],
 "metadata": {
  "kernelspec": {
   "display_name": "Python 3 (ipykernel)",
   "language": "python",
   "name": "python3"
  },
  "language_info": {
   "codemirror_mode": {
    "name": "ipython",
    "version": 3
   },
   "file_extension": ".py",
   "mimetype": "text/x-python",
   "name": "python",
   "nbconvert_exporter": "python",
   "pygments_lexer": "ipython3",
   "version": "3.9.12"
  }
 },
 "nbformat": 4,
 "nbformat_minor": 5
}
